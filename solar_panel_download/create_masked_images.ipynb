{
 "cells": [
  {
   "cell_type": "code",
   "execution_count": 10,
   "metadata": {
    "collapsed": true
   },
   "outputs": [],
   "source": [
    "import geojson\n",
    "import pandas as pd\n",
    "from shapely.geometry import Polygon, Point\n",
    "import json\n",
    "import geopy\n",
    "import geopy.distance\n",
    "import rasterio as rio\n",
    "from pathlib import Path\n",
    "import os\n",
    "from rasterio import mask\n",
    "\n",
    "\n",
    "DISTANCE = 2\n",
    "solar_pan_type = \"below_threshold\"\n"
   ]
  },
  {
   "cell_type": "code",
   "execution_count": 11,
   "outputs": [],
   "source": [
    "def find_file_by_point(lon, lat, dictionary):\n",
    "    for key, val in dictionary.items():\n",
    "        if Polygon(val).contains(Point(lat, lon)):\n",
    "            return key\n",
    "    return None\n",
    "\n",
    "def polygon_definition(lon,lat,distance):\n",
    "    polygon_list = []\n",
    "    start = geopy.Point(lat,lon)\n",
    "    r = geopy.distance.distance(kilometers = distance/2)\n",
    "    d = geopy.distance.distance(kilometers = distance)\n",
    "    new_point = r.destination(point=start, bearing=0)\n",
    "    polygon_1 = r.destination(point=new_point,bearing=90)\n",
    "    coordinates = polygon_1[1],polygon_1[0]\n",
    "    polygon_list.append(tuple(coordinates))\n",
    "    for i in range(3):\n",
    "        polygon_point = d.destination(point=polygon_1,bearing=(90*(i+2)))\n",
    "        polygon_1 = polygon_point\n",
    "        coordinates = polygon_1[1],polygon_1[0]\n",
    "        polygon_list.append(tuple(coordinates))\n",
    "    polygon_list.append(polygon_list[0])\n",
    "    return polygon_list"
   ],
   "metadata": {
    "collapsed": false
   }
  },
  {
   "cell_type": "code",
   "execution_count": 12,
   "outputs": [],
   "source": [
    "\n",
    "with open('recog.json', 'r') as json_file:\n",
    "    data = json.load(json_file)\n",
    "\n",
    "df = pd.read_csv(\"data\\\\solar_park_dataset_{}.csv\".format(solar_pan_type), sep=\";\")\n",
    "for i in range(len(df)):\n",
    "    lat = df[\"Latitude\"][i]\n",
    "    lon = df[\"Longitude\"][i]\n",
    "    GEM_ID = df[\"GEM phase ID\"][i]\n",
    "    country = df[\"Country\"][i]\n",
    "    file_name = find_file_by_point(lon,lat,data)\n",
    "    geom_list = polygon_definition(lon,lat,DISTANCE)\n",
    "    file_path = os.path.join(Path.cwd().parent, 'raw_DEM\\\\{}'.format(file_name))\n",
    "\n",
    "\n",
    "    geometry = geojson.Polygon([geom_list])\n",
    "\n",
    "    with rio.open(\"{}\".format(file_path)) as src:\n",
    "        out_image, out_transform = rio.mask.mask(src, [geometry],crop=True, all_touched=True)\n",
    "        out_meta = src.meta.copy()\n",
    "        out_meta.update({\"driver\": \"GTiff\",\n",
    "                         \"height\": out_image.shape[1],\n",
    "                         \"width\": out_image.shape[2],\n",
    "                         \"transform\": out_transform})\n",
    "        src.close()\n",
    "\n",
    "    with rio.open(os.path.join(Path.cwd(),\"Masked_images_dic\\\\{}\\\\{}_{}_masked.tiff\".format(solar_pan_type,GEM_ID,country)), \"w\", **out_meta) as dest:\n",
    "        dest.write(out_image)\n",
    "        dest.close()\n"
   ],
   "metadata": {
    "collapsed": false
   }
  },
  {
   "cell_type": "code",
   "execution_count": null,
   "outputs": [],
   "source": [],
   "metadata": {
    "collapsed": false
   }
  }
 ],
 "metadata": {
  "kernelspec": {
   "display_name": "Python 3",
   "language": "python",
   "name": "python3"
  },
  "language_info": {
   "codemirror_mode": {
    "name": "ipython",
    "version": 2
   },
   "file_extension": ".py",
   "mimetype": "text/x-python",
   "name": "python",
   "nbconvert_exporter": "python",
   "pygments_lexer": "ipython2",
   "version": "2.7.6"
  }
 },
 "nbformat": 4,
 "nbformat_minor": 0
}
