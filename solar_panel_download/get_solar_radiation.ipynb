{
 "cells": [
  {
   "cell_type": "code",
   "execution_count": 1,
   "metadata": {
    "collapsed": true
   },
   "outputs": [],
   "source": [
    "import requests\n",
    "import json\n",
    "from datetime import datetime\n",
    "import statistics\n",
    "import pandas as pd"
   ]
  },
  {
   "cell_type": "code",
   "execution_count": 4,
   "outputs": [],
   "source": [
    "url = \"https://testgateway2.eniaccomputing.com/api/v2/Partner?ModifiedSince=2023-03-01&PageNumber=1&RowsOfPage=1000\"\n",
    "\n",
    "# Headers to be added to the request\n",
    "headers = {\n",
    "    \"ConnectionId\": \"9c92a465-b8af-452b-993f-1879a534789d\",\n",
    "    \"xapi-key\": \"BEL-X2-iZcsduXjgUHv\"\n",
    "}\n",
    "\n",
    "# Sending the GET request with headers\n",
    "response = requests.get(url, headers=headers)\n",
    "data = json.loads(response.text)"
   ],
   "metadata": {
    "collapsed": false
   }
  },
  {
   "cell_type": "code",
   "execution_count": 2,
   "outputs": [],
   "source": [
    "df = pd.read_csv(\"data\\\\solar_panel_analysis_dataset_final.csv\")\n",
    "\n",
    "id_list = df[\"GEM phase ID\"].tolist()\n",
    "longitude_list = df[\"Longitude\"].tolist()\n",
    "latitude_list = df[\"Latitude\"].tolist()\n",
    "\n",
    "read_coordinates_dict = {}\n",
    "\n",
    "for i in range(len(id_list)):\n",
    "    read_coordinates_dict[id_list[i]] = {\"longitude\":longitude_list[i], \"latitude\": latitude_list[i]}"
   ],
   "metadata": {
    "collapsed": false
   }
  },
  {
   "cell_type": "code",
   "execution_count": 3,
   "outputs": [],
   "source": [
    "def create_chunks(lst, chunk_size):\n",
    "    return [lst[i:i+chunk_size] for i in range(0, len(lst), chunk_size)]"
   ],
   "metadata": {
    "collapsed": false
   }
  },
  {
   "cell_type": "code",
   "execution_count": 4,
   "outputs": [],
   "source": [
    "chunks = create_chunks(list(read_coordinates_dict.keys()), 1000)"
   ],
   "metadata": {
    "collapsed": false
   }
  },
  {
   "cell_type": "code",
   "execution_count": 6,
   "outputs": [
    {
     "name": "stdout",
     "output_type": "stream",
     "text": [
      "2023-06-07 12:52:14.279620 - Progress of chunk 7/9: 0%\n",
      "2023-06-07 13:03:43.588562 - Progress of chunk 7/9: 10%\n",
      "2023-06-07 13:16:24.304522 - Progress of chunk 7/9: 20%\n",
      "2023-06-07 13:29:24.441334 - Progress of chunk 7/9: 30%\n",
      "2023-06-07 13:42:31.051587 - Progress of chunk 7/9: 40%\n",
      "2023-06-07 13:55:21.673638 - Progress of chunk 7/9: 50%\n",
      "2023-06-07 14:08:06.991568 - Progress of chunk 7/9: 60%\n",
      "2023-06-07 14:21:03.489763 - Progress of chunk 7/9: 70%\n",
      "2023-06-07 14:34:03.908007 - Progress of chunk 7/9: 80%\n",
      "2023-06-07 14:46:41.714717 - Progress of chunk 7/9: 90%\n",
      "2023-06-07 14:59:02.402643 - Progress of chunk 7/9: 100%\n",
      "2023-06-07 14:59:41.778403 - Progress of chunk 8/9: 0%\n",
      "2023-06-07 15:11:19.922815 - Progress of chunk 8/9: 10%\n",
      "2023-06-07 15:23:23.417152 - Progress of chunk 8/9: 20%\n",
      "2023-06-07 15:35:36.988771 - Progress of chunk 8/9: 30%\n",
      "2023-06-07 15:47:35.155143 - Progress of chunk 8/9: 40%\n",
      "2023-06-07 15:59:43.342790 - Progress of chunk 8/9: 50%\n",
      "2023-06-07 16:11:55.141299 - Progress of chunk 8/9: 60%\n",
      "2023-06-07 16:24:06.225788 - Progress of chunk 8/9: 70%\n",
      "2023-06-07 16:36:20.771410 - Progress of chunk 8/9: 80%\n",
      "2023-06-07 16:48:27.029481 - Progress of chunk 8/9: 90%\n",
      "2023-06-07 17:00:44.146458 - Progress of chunk 8/9: 100%\n",
      "2023-06-07 17:01:21.286078 - Progress of chunk 9/9: 0%\n",
      "2023-06-07 17:10:51.733542 - Progress of chunk 9/9: 10%\n",
      "2023-06-07 17:20:31.216483 - Progress of chunk 9/9: 20%\n",
      "2023-06-07 17:30:05.830521 - Progress of chunk 9/9: 30%\n",
      "2023-06-07 17:40:05.278570 - Progress of chunk 9/9: 40%\n",
      "2023-06-07 17:49:29.841342 - Progress of chunk 9/9: 50%\n",
      "2023-06-07 17:59:08.207121 - Progress of chunk 9/9: 60%\n",
      "2023-06-07 18:09:03.366855 - Progress of chunk 9/9: 70%\n",
      "2023-06-07 18:18:49.498303 - Progress of chunk 9/9: 80%\n",
      "2023-06-07 18:28:23.984322 - Progress of chunk 9/9: 90%\n",
      "2023-06-07 18:37:11.987113 - Progress of chunk 9/9: 100%\n"
     ]
    }
   ],
   "source": [
    "for chunk in chunks[6:]:\n",
    "    final_dict = {}\n",
    "    progress = \"\"\n",
    "    for ids in chunk:\n",
    "        response = requests.get(\n",
    "            \"https://re.jrc.ec.europa.eu/api/v5_1/seriescalc?\",\n",
    "            params={\n",
    "                \"lat\": read_coordinates_dict[ids][\"latitude\"],\n",
    "                \"lon\": read_coordinates_dict[ids][\"longitude\"],\n",
    "                \"outputformat\": \"json\",\n",
    "                \"startyear\": 2005,\n",
    "                \"endyear\": 2015}\n",
    "        )\n",
    "        data = json.loads(response.text)\n",
    "        if \"outputs\" not in data.keys():\n",
    "            final_dict[ids] = \"missing spatial data\"\n",
    "        else:\n",
    "            monthly_averages = {}\n",
    "            yearly_averages = {}\n",
    "            full_averages = {}\n",
    "\n",
    "            for data_point in data['outputs']['hourly']:\n",
    "                date_string = data_point['time']\n",
    "                data_point['time'] = datetime.strptime(date_string, '%Y%m%d:%H%M')\n",
    "                #date = data_point['time'].date()\n",
    "                year = data_point['time'].strftime('%Y')\n",
    "                if year == '2004':\n",
    "                    continue\n",
    "                month = data_point['time'].strftime('%m')\n",
    "                radiance = data_point['G(i)']\n",
    "                sun_height = data_point['H_sun']\n",
    "                temperature = data_point['T2m']\n",
    "                wind_speed = data_point['WS10m']\n",
    "                parameter_dict = {'temperature': temperature, 'radiance': radiance, 'sun_height': sun_height, 'wind_speed':wind_speed}\n",
    "\n",
    "                if month not in monthly_averages:\n",
    "                    monthly_averages[month] = {}\n",
    "\n",
    "                if year not in yearly_averages:\n",
    "                    yearly_averages[year] = {}\n",
    "\n",
    "                for items, parameter_values in parameter_dict.items():\n",
    "                    if items in monthly_averages[month].keys():\n",
    "                        monthly_averages[month][items].append(parameter_values)\n",
    "                    else:\n",
    "                        monthly_averages[month][items] = [parameter_values]\n",
    "\n",
    "\n",
    "                    if items in yearly_averages[year].keys():\n",
    "                        yearly_averages[year][items].append(parameter_values)\n",
    "                    else:\n",
    "                        yearly_averages[year][items] = [parameter_values]\n",
    "\n",
    "\n",
    "                    if items in full_averages.keys():\n",
    "                        full_averages[items].append(parameter_values)\n",
    "                    else:\n",
    "                        full_averages[items] = [parameter_values]\n",
    "\n",
    "\n",
    "            for date_list in [yearly_averages, monthly_averages, full_averages]:\n",
    "                for date, values in date_list.items():\n",
    "                    if date_list == full_averages:\n",
    "                        values = full_averages\n",
    "                    for items, parameter_values in parameter_dict.items():\n",
    "                        parameter_sum = sum(values[items])\n",
    "                        parameter_count = len(values[items])\n",
    "                        average_parameter = parameter_sum/parameter_count\n",
    "                        median_parameter = statistics.median(values[items])\n",
    "                        mode_parameter = statistics.mode(values[items])\n",
    "                        stdev_parameter = statistics.stdev(values[items])\n",
    "                        variance_parameter = statistics.variance(values[items])\n",
    "                        max_parameter = max(values[items])\n",
    "                        min_parameter = min(values[items])\n",
    "                        range_parameter = max_parameter - min_parameter\n",
    "                        values[items] = {\"average\": average_parameter, \"median\": median_parameter, \"mode\": mode_parameter, \"standard_deviation\": stdev_parameter, \"variance\": variance_parameter, \"max\": max_parameter, \"min\": min_parameter, \"range\": range_parameter}\n",
    "                    if date_list == full_averages:\n",
    "                        break\n",
    "            final_dict[ids] = {\"monthly\": monthly_averages, \"yearly\":yearly_averages, \"full\": full_averages}\n",
    "            current_progress = round((chunk.index(ids)/len(chunk)) * 100)\n",
    "            if current_progress % 10 == 0 and current_progress != progress:\n",
    "                print(\"{} - Progress of chunk {}/{}: {}%\".format(datetime.now(),chunks.index(chunk) + 1, len(chunks), current_progress))\n",
    "                progress = current_progress\n",
    "    dict_for_json = {item:value for item, value in final_dict.items() if value != \"missing spatial data\"}\n",
    "    with open('additional_weather_data\\\\solar_data_{}.json'.format(chunks.index(chunk) + 1), 'w') as json_file:\n",
    "        json.dump(dict_for_json, json_file)"
   ],
   "metadata": {
    "collapsed": false
   }
  },
  {
   "cell_type": "code",
   "execution_count": 90,
   "outputs": [],
   "source": [],
   "metadata": {
    "collapsed": false
   }
  },
  {
   "cell_type": "code",
   "execution_count": 91,
   "outputs": [],
   "source": [],
   "metadata": {
    "collapsed": false
   }
  },
  {
   "cell_type": "code",
   "execution_count": null,
   "outputs": [],
   "source": [],
   "metadata": {
    "collapsed": false
   }
  }
 ],
 "metadata": {
  "kernelspec": {
   "display_name": "Python 3",
   "language": "python",
   "name": "python3"
  },
  "language_info": {
   "codemirror_mode": {
    "name": "ipython",
    "version": 2
   },
   "file_extension": ".py",
   "mimetype": "text/x-python",
   "name": "python",
   "nbconvert_exporter": "python",
   "pygments_lexer": "ipython2",
   "version": "2.7.6"
  }
 },
 "nbformat": 4,
 "nbformat_minor": 0
}
