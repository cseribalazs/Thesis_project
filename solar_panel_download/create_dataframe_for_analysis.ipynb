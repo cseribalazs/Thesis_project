{
 "cells": [
  {
   "cell_type": "code",
   "execution_count": 1,
   "metadata": {
    "collapsed": true
   },
   "outputs": [],
   "source": [
    "import pandas as pd\n",
    "import matplotlib.pyplot as plt\n",
    "import numpy as np\n"
   ]
  },
  {
   "cell_type": "code",
   "execution_count": 4,
   "outputs": [],
   "source": [
    "df = pd.read_csv(\"data\\\\solar_park_dataset_above_threshold.csv\", sep=\";\")\n",
    "df_below = pd.read_csv(\"data\\\\solar_park_dataset_below_threshold.csv\", sep=\";\")\n",
    "\n",
    "df['threshold'] = \"above_threshold\"\n",
    "df_below['threshold'] = 'below_threshold'"
   ],
   "metadata": {
    "collapsed": false
   }
  },
  {
   "cell_type": "code",
   "execution_count": 6,
   "outputs": [],
   "source": [
    "needed_columns = ['GEM phase ID','Country', 'Capacity (MW)', 'Capacity Rating', 'Technology Type', 'Status',\n",
    "                  'Start year','Latitude', 'Longitude', 'threshold']\n",
    "df_main = df[needed_columns]\n",
    "df_final = pd.concat([df_main, df_below[needed_columns]], ignore_index=True)"
   ],
   "metadata": {
    "collapsed": false
   }
  },
  {
   "cell_type": "code",
   "execution_count": 7,
   "outputs": [],
   "source": [
    "df_final.to_csv(\"data\\\\solar_panel_analysis_dataset_final.csv\")"
   ],
   "metadata": {
    "collapsed": false
   }
  },
  {
   "cell_type": "code",
   "execution_count": null,
   "outputs": [],
   "source": [],
   "metadata": {
    "collapsed": false
   }
  }
 ],
 "metadata": {
  "kernelspec": {
   "display_name": "Python 3",
   "language": "python",
   "name": "python3"
  },
  "language_info": {
   "codemirror_mode": {
    "name": "ipython",
    "version": 2
   },
   "file_extension": ".py",
   "mimetype": "text/x-python",
   "name": "python",
   "nbconvert_exporter": "python",
   "pygments_lexer": "ipython2",
   "version": "2.7.6"
  }
 },
 "nbformat": 4,
 "nbformat_minor": 0
}
