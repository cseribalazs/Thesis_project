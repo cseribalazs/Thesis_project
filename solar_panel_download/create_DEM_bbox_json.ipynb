{
 "cells": [
  {
   "cell_type": "code",
   "execution_count": 22,
   "metadata": {
    "collapsed": true
   },
   "outputs": [],
   "source": [
    "import os\n",
    "from pathlib import Path\n",
    "import re\n",
    "import zipfile\n",
    "import json"
   ]
  },
  {
   "cell_type": "code",
   "execution_count": 23,
   "outputs": [],
   "source": [
    "def add_to_recognition_json(filename):\n",
    "    pattern = r\"([^_]+)_\"  # Regex pattern to match the group before the first \"_\"\n",
    "    match = re.search(pattern, filename)\n",
    "\n",
    "    if match:\n",
    "        extracted_group = match.group(1)\n",
    "        numbers_as_string = re.findall(r'\\d+',extracted_group)\n",
    "        numbers = list(map(int,numbers_as_string))\n",
    "        letters = re.findall(r'\\D+',extracted_group)\n",
    "        if letters[0] == 'n':\n",
    "            if letters[1] == 'w':\n",
    "               numbers[1] = - numbers[1]\n",
    "        if letters[0] == 's':\n",
    "            numbers[0] = - numbers[0]\n",
    "            if letters[1] == 'w':\n",
    "                numbers[1] = - numbers[1]\n",
    "        bbox = [(numbers[0],numbers[1]),(numbers[0] + 20, numbers[1]),(numbers[0] + 20, numbers[1] + 30), (numbers[0], numbers[1] + 30)]\n",
    "        recog_json[filename] = bbox\n",
    "\n",
    "\n",
    "\n",
    "def unzip_and_rename_files(folder_path):\n",
    "    filelist = os.listdir(os.path.join(Path.cwd().parent, folder_path))\n",
    "    for file_name in filelist:\n",
    "        if file_name.endswith('.zip'):\n",
    "            zip_file_path = os.path.join(os.path.join(Path.cwd().parent, folder_path), file_name)\n",
    "            destination_path = os.path.join(Path.cwd().parent, destination_folder) # Remove the '.zip' extension\n",
    "\n",
    "            # Create the destination folder if it doesn't exist\n",
    "            if not os.path.exists(destination_path):\n",
    "                os.makedirs(destination_path)\n",
    "\n",
    "            with zipfile.ZipFile(zip_file_path, 'r') as zip_ref:\n",
    "                for tif_file_name in zip_ref.namelist():\n",
    "                    if tif_file_name.endswith(extension):\n",
    "                        zip_ref.extract(tif_file_name, destination_path)\n",
    "                        add_to_recognition_json(tif_file_name)\n",
    "\n",
    "# Example usage\n",
    "recog_json = {}\n",
    "file_source_path = 'DEM_Data'\n",
    "destination_folder = 'raw_DEM'\n",
    "extension = 'mea075.tif'\n",
    "unzip_and_rename_files(file_source_path)\n",
    "with open('recog.json', 'w') as json_file:\n",
    "    json.dump(recog_json, json_file)"
   ],
   "metadata": {
    "collapsed": false
   }
  },
  {
   "cell_type": "code",
   "execution_count": null,
   "outputs": [],
   "source": [],
   "metadata": {
    "collapsed": false
   }
  }
 ],
 "metadata": {
  "kernelspec": {
   "display_name": "Python 3",
   "language": "python",
   "name": "python3"
  },
  "language_info": {
   "codemirror_mode": {
    "name": "ipython",
    "version": 2
   },
   "file_extension": ".py",
   "mimetype": "text/x-python",
   "name": "python",
   "nbconvert_exporter": "python",
   "pygments_lexer": "ipython2",
   "version": "2.7.6"
  }
 },
 "nbformat": 4,
 "nbformat_minor": 0
}
