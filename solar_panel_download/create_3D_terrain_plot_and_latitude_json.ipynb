{
 "cells": [
  {
   "cell_type": "code",
   "execution_count": 18,
   "metadata": {
    "collapsed": true
   },
   "outputs": [],
   "source": [
    "import matplotlib.pyplot as plt\n",
    "import numpy as np\n",
    "from mpl_toolkits.mplot3d import Axes3D\n",
    "import rasterio as rio\n",
    "import os\n",
    "import pandas as pd\n",
    "import glob\n",
    "\n",
    "solar_pan_type = [\"above_threshold\",\"below_threshold\"]\n"
   ]
  },
  {
   "cell_type": "code",
   "execution_count": 19,
   "outputs": [],
   "source": [
    "final_name_list =[]\n",
    "\n",
    "for types in solar_pan_type:\n",
    "    directory_path = \"Masked_images_dic\\\\{}\".format(types)\n",
    "    file_list = glob.glob(directory_path + \"/*.tiff\")\n",
    "    file_names = [file for file in file_list]\n",
    "    final_name_list.extend(file_names)\n",
    "\n",
    "df = pd.read_csv(\"data\\\\solar_panel_analysis_dataset_final.csv\")\n",
    "\n",
    "id_list = df[\"GEM phase ID\"].tolist()\n",
    "\n",
    "smoothness_list = []\n",
    "average_elevation_list = []\n",
    "\n",
    "sorted_list_files = sorted(final_name_list, key=lambda x: id_list.index(x.split('_')[3].split('\\\\')[1]))"
   ],
   "metadata": {
    "collapsed": false
   }
  },
  {
   "cell_type": "code",
   "execution_count": 20,
   "outputs": [
    {
     "name": "stderr",
     "output_type": "stream",
     "text": [
      "C:\\Users\\cseri\\AppData\\Local\\Temp\\ipykernel_21992\\746388226.py:30: UserWarning: Attempting to set identical low and high zlims makes transformation singular; automatically expanding.\n",
      "  ax.set_zlim(np.min(elevation)+5, np.max(elevation)+5)\n"
     ]
    }
   ],
   "source": [
    "\n",
    "for image_file in sorted_list_files:\n",
    "    dataset = rio.open(image_file)\n",
    "\n",
    "    elevation = dataset.read(1)\n",
    "    transform = dataset.transform\n",
    "\n",
    "    x = transform[2] + np.arange(dataset.width) * transform[0]\n",
    "    y = transform[5] + np.arange(dataset.height) * transform[4]\n",
    "    xx, yy = np.meshgrid(x, y)\n",
    "\n",
    "\n",
    "    fig = plt.figure()\n",
    "    ax = fig.add_subplot(111, projection='3d')\n",
    "\n",
    "\n",
    "    lat_min, lat_max = np.percentile(yy.flatten(), 40), np.percentile(yy.flatten(), 60)\n",
    "    lon_min, lon_max = np.percentile(xx.flatten(), 40), np.percentile(xx.flatten(), 60)\n",
    "    highlight_mask = np.logical_and(yy >= lat_min, yy <= lat_max) & np.logical_and(xx >= lon_min, xx <= lon_max)\n",
    "\n",
    "    ax.plot_surface(xx, yy, elevation, cmap='terrain', linewidth=0, alpha=0.5)\n",
    "\n",
    "    highlight_color = 'r'\n",
    "\n",
    "    highlighted_elevation = np.ma.masked_array(elevation, mask=~highlight_mask).astype(float)\n",
    "\n",
    "    ax.plot_surface(xx, yy, highlighted_elevation.filled(np.nan), cmap='Reds', linewidth=0.2, alpha=1)\n",
    "\n",
    "    ax.set_xlim(np.min(xx), np.max(xx))\n",
    "    ax.set_ylim(np.min(yy), np.max(yy))\n",
    "    ax.set_zlim(np.min(elevation)+5, np.max(elevation)+5)\n",
    "\n",
    "    min_elevation_indices = np.unravel_index(np.nanargmin(elevation), elevation.shape)\n",
    "\n",
    "    azim = - np.rad2deg(np.arctan2(min_elevation_indices[0] - yy.shape[0] // 2, min_elevation_indices[1] - xx.shape[1] // 2))\n",
    "\n",
    "\n",
    "    ax.view_init(elev=30, azim=azim)\n",
    "\n",
    "    ax.set_zlabel('Elevation')\n",
    "    ax.set_xlabel('Longitude')\n",
    "    ax.set_ylabel('Latitude')\n",
    "\n",
    "    z_min, z_max = np.min(elevation), np.max(elevation)\n",
    "    tick_distance = 10.0\n",
    "    z_min = np.floor(z_min / tick_distance) * tick_distance\n",
    "    z_max = np.ceil(z_max / tick_distance) * tick_distance\n",
    "    num_ticks = int((z_max - z_min) / tick_distance) + 1\n",
    "    z_ticks = np.linspace(z_min, z_max, num_ticks)\n",
    "    ax.set_zticks(z_ticks)\n",
    "\n",
    "    plt.savefig('Masked_images_dic\\\\{}\\\\elevation_plots\\\\{}.png'.format(image_file.split('\\\\')[1],image_file.split('\\\\')[-1][:-5]))\n",
    "\n",
    "    plt.close()\n",
    "\n",
    "    slope_x = np.gradient(elevation, axis=1)\n",
    "    slope_y = np.gradient(elevation, axis=0)\n",
    "    slope_magnitude = np.sqrt(slope_x ** 2 + slope_y ** 2)\n",
    "\n",
    "\n",
    "    cropped_slope_magnitude = slope_magnitude[highlight_mask]\n",
    "    slope_std = np.std(cropped_slope_magnitude)\n",
    "\n",
    "    average_slope = np.mean(cropped_slope_magnitude)\n",
    "    average_elevation = np.mean(elevation[highlight_mask])\n",
    "    average_elevation_list.append(average_elevation)\n",
    "    smoothness_list.append(average_slope)"
   ],
   "metadata": {
    "collapsed": false
   }
  },
  {
   "cell_type": "code",
   "execution_count": 21,
   "outputs": [],
   "source": [
    "df['smoothness'] = smoothness_list\n",
    "df['average_elevation'] = average_elevation_list"
   ],
   "metadata": {
    "collapsed": false
   }
  },
  {
   "cell_type": "code",
   "execution_count": 22,
   "outputs": [],
   "source": [
    "df.to_csv(\"data\\\\solar_panel_analysis_dataset_final.csv\")"
   ],
   "metadata": {
    "collapsed": false
   }
  },
  {
   "cell_type": "code",
   "execution_count": null,
   "outputs": [],
   "source": [],
   "metadata": {
    "collapsed": false
   }
  }
 ],
 "metadata": {
  "kernelspec": {
   "display_name": "Python 3",
   "language": "python",
   "name": "python3"
  },
  "language_info": {
   "codemirror_mode": {
    "name": "ipython",
    "version": 2
   },
   "file_extension": ".py",
   "mimetype": "text/x-python",
   "name": "python",
   "nbconvert_exporter": "python",
   "pygments_lexer": "ipython2",
   "version": "2.7.6"
  }
 },
 "nbformat": 4,
 "nbformat_minor": 0
}
